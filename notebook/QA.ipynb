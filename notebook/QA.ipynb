{
 "cells": [
  {
   "cell_type": "code",
   "execution_count": 49,
   "metadata": {},
   "outputs": [],
   "source": [
    "import sys\n",
    "sys.path.append('../')\n",
    "import joblib\n",
    "import requests\n",
    "import streamlit as st\n",
    "import tensorflow as tf\n",
    "from types import SimpleNamespace\n",
    "import wikipedia \n",
    "import openai\n",
    "import gradio as gr\n",
    "import torch\n",
    "from transformers import pipeline\n",
    "from transformers import AutoTokenizer\n",
    "from web.model import load_model\n",
    "from web.prediction import run_prediction\n",
    "from tools import ggsearch as gg\n",
    "from tools.ggsearch import GoogleSearch,find_most_similar_documents"
   ]
  },
  {
   "cell_type": "code",
   "execution_count": 44,
   "metadata": {},
   "outputs": [
    {
     "name": "stdout",
     "output_type": "stream",
     "text": [
      "['https://thanthienmoitruong.com/tin-tuc.html', 'https://vi.wikipedia.org/wiki/H%C3%A0_N%E1%BB%99i', 'https://vinpearl.com/vi/thu-do-ha-noi', 'https://quynhluu2.edu.vn/Giao-vien/DANH-SACH-CAC-KINH-DO-THU-DO-CUA-VIET-NAM-765.html', 'https://thuvienphapluat.vn/phap-luat/ha-noi-tro-thanh-thu-do-viet-nam-tu-khi-nao-thu-do-ha-noi-co-phai-la-trung-tam-chinh-tri-hanh-chinh-920987-122537.html', 'https://danguykhoicqvadn.thuathienhue.gov.vn/?gd=14&cn=66&tc=1448', 'https://thanthienmoitruong.com/tin-tuc/27/ha-nam-nguon-nuoc-o-nhiem-nghiem-trong.html', 'https://vi.wikipedia.org/wiki/Th%E1%BB%A7_%C4%91%C3%B4_Vi%E1%BB%87t_Nam', 'https://thuvienphapluat.vn/phap-luat/thu-do-nuoc-cong-hoa-xa-hoi-chu-nghia-viet-nam-duoc-quy-dinh-the-nao-bieu-tuong-cua-thu-do-la-hinh--282574-81065.html', 'https://dangcongsan.vn/xay-dung-dang/ha-noi-xung-tam-mot-thu-do-van-minh-hien-dai-niem-tin-yeu-cua-ca-nuoc-593534.html']\n"
     ]
    }
   ],
   "source": [
    "question = \"Đâu là thủ đô của Việt Nam?\"\n",
    "search = GoogleSearch()\n",
    "urls,documents = search.gg_search(question)\n",
    "    \n",
    "most_similar_documents = find_most_similar_documents(question,documents)\n",
    "context = most_similar_documents[0]    "
   ]
  },
  {
   "cell_type": "code",
   "execution_count": 45,
   "metadata": {},
   "outputs": [],
   "source": [
    "tokenizer = AutoTokenizer.from_pretrained('xlm-roberta-large')"
   ]
  },
  {
   "cell_type": "code",
   "execution_count": 50,
   "metadata": {},
   "outputs": [],
   "source": [
    "model = load_model('../model/qa_large_model/')"
   ]
  },
  {
   "cell_type": "code",
   "execution_count": 52,
   "metadata": {},
   "outputs": [
    {
     "name": "stdout",
     "output_type": "stream",
     "text": [
      "- Question: Đâu là thủ đô của Việt Nam?\n",
      "- Answer: thành phố Hà Nội\n"
     ]
    }
   ],
   "source": [
    "question, answer = prediction.run_prediction(model, tokenizer, context, question)"
   ]
  }
 ],
 "metadata": {
  "kernelspec": {
   "display_name": "myenv",
   "language": "python",
   "name": "python3"
  },
  "language_info": {
   "codemirror_mode": {
    "name": "ipython",
    "version": 3
   },
   "file_extension": ".py",
   "mimetype": "text/x-python",
   "name": "python",
   "nbconvert_exporter": "python",
   "pygments_lexer": "ipython3",
   "version": "3.11.3"
  }
 },
 "nbformat": 4,
 "nbformat_minor": 2
}
